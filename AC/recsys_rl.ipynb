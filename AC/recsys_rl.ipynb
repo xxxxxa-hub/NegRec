{
 "cells": [
  {
   "cell_type": "code",
   "execution_count": 1,
   "metadata": {
    "colab": {},
    "colab_type": "code",
    "id": "WBbEvG1aixZo"
   },
   "outputs": [],
   "source": [
    "from collections import defaultdict\n",
    "from IPython.display import clear_output\n",
    "import os\n",
    "import sys\n",
    "import pickle\n",
    "import random\n",
    "import requests\n",
    "import time\n",
    "import tqdm\n",
    "\n",
    "from IPython.core.debugger import set_trace\n",
    "import numpy as np\n",
    "import pandas as pd\n",
    "from pytorch_ranger import Ranger\n",
    "import torch\n",
    "import torch.nn as nn\n",
    "import torch.nn.functional as F \n",
    "import torch.utils.data as td\n",
    "from torch.utils.tensorboard import SummaryWriter\n",
    "from torch.optim import lr_scheduler\n",
    "\n",
    "sys.path.append(\"/Users/xuxiaoan/Downloads/recsys-rl-master\")\n",
    "from utils import *"
   ]
  },
  {
   "cell_type": "code",
   "execution_count": 46,
   "metadata": {
    "colab": {},
    "colab_type": "code",
    "id": "k7YiOW9TixZs"
   },
   "outputs": [],
   "source": [
    "data_dir = \"data\"\n",
    "rating = \"ratings.csv\"\n",
    "\n",
    "params = {\n",
    "    'max_epoch': 15,\n",
    "    'batch_size': 64,\n",
    "    'embedding_dim': 8,\n",
    "    'hidden_dim': 64,\n",
    "    'N': 5, # memory size for state_repr\n",
    "    'ou_noise':False,\n",
    "    'value_lr': 1e-4,\n",
    "    'value_decay': 1e-4,\n",
    "    'policy_lr': 1e-4,\n",
    "    'policy_decay': 1e-6,\n",
    "    'state_repr_lr': 1e-4,\n",
    "    'state_repr_decay': 1e-3,\n",
    "    'log_dir': 'logs/final/',\n",
    "    'gamma': 0.8,\n",
    "    'min_value': -10,\n",
    "    'max_value': 10,\n",
    "    'soft_tau': 1e-3,\n",
    "    'buffer_size': 100000\n",
    "}"
   ]
  },
  {
   "cell_type": "markdown",
   "metadata": {},
   "source": [
    "## 0. Problem statement"
   ]
  },
  {
   "cell_type": "markdown",
   "metadata": {},
   "source": [
    "Traditional recommendation task can be treated as sequental desicion making problem.\n",
    "Recommender (i.e. agent) interacts with users (i.e. environment) to sequentally suggest set of items.\n",
    "The goal is to maximize clients' satisfaction (i.e. reward).\n",
    "More specifically:\n",
    "- State is a vector $a \\in R^{3\\cdot embedding\\_dim}$ computed using the user embedding and the embeddings of `N` latest positive interactions. In the code (replay buffer) state is represented  by `(user, memory)`\n",
    "- Action is a vector $a \\in R^{embedding\\_dim}$. To get ranking score we took dot product of\n",
    "the action and the item embedding (similar to word2vec and other embedding models).\n",
    "- Reward is taken from user-item matrix (1 if rating > 3, 0 otherwise)"
   ]
  },
  {
   "cell_type": "markdown",
   "metadata": {},
   "source": [
    "Reinforcement Learning can help recommendation at least in 2 ways.\n",
    "1. User’s preference on previous items will affect his choice on the next items. \n",
    "User tends to give a higher rating if he has consecutively received more satisfied items (and vice versa). \n",
    "So, it would be more reasonable to model the recommendation as a sequential decision making process.\n",
    "2. It is important to use long-term planning in recommendations. For example, after reading the weather forecast, the user is not willing\n",
    "to read similar news. On the other hand, after watching funny videos or reading memes the user can constanly do the same."
   ]
  },
  {
   "cell_type": "code",
   "execution_count": 47,
   "metadata": {
    "code_folding": [],
    "colab": {},
    "colab_type": "code",
    "id": "qabQkULCixZv"
   },
   "outputs": [
    {
     "name": "stdout",
     "output_type": "stream",
     "text": [
      "Skip loading data/ratings.csv\n"
     ]
    }
   ],
   "source": [
    "# Movielens (1M) data from the https://github.com/hexiangnan/neural_collaborative_filtering\n",
    "if not os.path.isdir('./data'):\n",
    "    os.mkdir('./data')\n",
    "    \n",
    "file_path = os.path.join(data_dir, rating)\n",
    "if os.path.exists(file_path):\n",
    "    print(\"Skip loading \" + file_path)\n",
    "else:\n",
    "    with open(file_path, \"wb\") as tf:\n",
    "        print(\"Load \" + file_path)\n",
    "        r = requests.get(\"https://raw.githubusercontent.com/hexiangnan/neural_collaborative_filtering/master/Data/\" + rating)\n",
    "        tf.write(r.content)\n",
    "        \n",
    "(train_data, train_matrix, valid_data, valid_matrix, test_data, test_matrix,\n",
    " user_num, item_num, appropriate_users, mapping, reverse_mapping) = preprocess_data(data_dir, rating)"
   ]
  },
  {
   "cell_type": "markdown",
   "metadata": {},
   "source": [
    "## 1. Environment"
   ]
  },
  {
   "cell_type": "markdown",
   "metadata": {},
   "source": [
    "- **Observation space**. As mentioned before, to get state we need `N` latest positive items (`memory`) and embedding of user. `State_Repr_Module` transform it to the vector of dimensionality `embedding_dim * 3`.\n",
    "\n",
    "- **Action space**. For every user we sample nonrelated items (the same count as related). All `available_items` which wasn't viewed before form action space.\n",
    "\n",
    "Given a state we get action embedding, compute dot product between this embedding and embeddings of all items in action space, take 1 top ranked item, compute reward, update `viewed_items` and memory, and store transition in buffer."
   ]
  },
  {
   "cell_type": "code",
   "execution_count": 48,
   "metadata": {
    "code_folding": []
   },
   "outputs": [],
   "source": [
    "class Env():\n",
    "    def __init__(self, user_item_matrix):\n",
    "        self.matrix = user_item_matrix\n",
    "        self.item_count = item_num\n",
    "        self.memory = np.ones([user_num, params['N']]) * item_num\n",
    "        # memory is initialized as [item_num] * N for each user\n",
    "        # it is padding indexes in state_repr and will result in zero embeddings\n",
    "\n",
    "    # 候选集合为x个有评分的items和x和无评分的items，推荐item个数等同于rating>3的item个数\n",
    "    def reset(self, user_id):\n",
    "        self.user_id = user_id\n",
    "        self.viewed_items = []\n",
    "        self.related_items = np.argwhere(self.matrix[self.user_id] > 0)[:, 1]\n",
    "        self.good_items = np.argwhere(self.matrix[self.user_id] > 3)[:, 1]\n",
    "        self.num_rele = len(self.related_items)\n",
    "        self.num_good = len(self.good_items)\n",
    "\n",
    "        self.nonrelated_items = np.random.choice(\n",
    "            list(set(range(self.item_count)) - set(self.related_items)), self.num_rele)\n",
    "\n",
    "        self.available_items = np.zeros(self.num_rele*2)\n",
    "        self.available_items[::2] = self.related_items\n",
    "        self.available_items[1::2] = self.nonrelated_items\n",
    "\n",
    "        return torch.tensor([self.user_id]), torch.tensor(self.memory[[self.user_id], :])\n",
    "    \n",
    "    def step(self, action, action_emb=None, buffer=None):\n",
    "        initial_user = self.user_id\n",
    "        initial_memory = self.memory[[initial_user], :]\n",
    "\n",
    "        # 通过rating计算reward（按照原文）\n",
    "        if to_np(action) not in self.related_items:\n",
    "            rating = 0\n",
    "            reward = 0\n",
    "        else:\n",
    "            rating = self.matrix[self.user_id, to_np(action)[0]]\n",
    "            reward = (rating - 3) / 2\n",
    "\n",
    "        self.viewed_items.append(to_np(action)[0])\n",
    "\n",
    "        # rating>3才更新状态\n",
    "        if reward >0:\n",
    "            if len(action) == 1:\n",
    "                self.memory[self.user_id] = list(self.memory[self.user_id][1:]) + [action]\n",
    "            else:\n",
    "                self.memory[self.user_id] = list(self.memory[self.user_id][1:]) + [action[0]]\n",
    "\n",
    "        # 推荐商品个数 = rating>3的商品个数\n",
    "        if len(self.viewed_items) == self.num_good:\n",
    "            done = 1\n",
    "        else:\n",
    "            done = 0\n",
    "\n",
    "        # 向replay buffer存储SARS\n",
    "        if buffer is not None:\n",
    "            buffer.push(np.array([initial_user]), np.array(initial_memory),\n",
    "                        to_np(action_emb)[0], np.array([reward]), np.array([self.user_id]),\n",
    "                        self.memory[[self.user_id], :], np.array([done]))\n",
    "\n",
    "        return torch.tensor([self.user_id]), torch.tensor(self.memory[[self.user_id], :]), reward, rating, done"
   ]
  },
  {
   "cell_type": "markdown",
   "metadata": {
    "colab_type": "text",
    "id": "Li8nNg-3ixZ_"
   },
   "source": [
    "## 2. Model"
   ]
  },
  {
   "cell_type": "markdown",
   "metadata": {},
   "source": [
    "### Overall model\n",
    "\n",
    "<img src=\"img/full_model.png\" width=\"500\" height=\"350\">"
   ]
  },
  {
   "cell_type": "code",
   "execution_count": 65,
   "metadata": {
    "code_folding": []
   },
   "outputs": [],
   "source": [
    "class Actor_DRR(nn.Module):\n",
    "    def __init__(self, embedding_dim, hidden_dim):\n",
    "        super().__init__()\n",
    "    \n",
    "        self.layers = nn.Sequential(\n",
    "            nn.Linear(embedding_dim * 15, hidden_dim),\n",
    "            nn.ReLU(),\n",
    "            nn.Linear(hidden_dim, embedding_dim)\n",
    "        )\n",
    "        \n",
    "        self.initialize()\n",
    "\n",
    "    def initialize(self):\n",
    "        for layer in self.layers:\n",
    "            if isinstance(layer, nn.Linear):\n",
    "                nn.init.kaiming_uniform_(layer.weight)\n",
    "\n",
    "    def forward(self, state):\n",
    "        return self.layers(state)\n",
    "\n",
    "    # 只在available items中选择最接近的item，否则大量reward=0，不利于训练\n",
    "    def get_action(self, user, memory, state_repr, \n",
    "                   action_emb,\n",
    "                   items=torch.tensor([i for i in range(item_num)]),\n",
    "                   return_scores=False\n",
    "                  ):\n",
    "        # state没有作用？\n",
    "        # state = state_repr(user, memory)\n",
    "        scores = torch.bmm(state_repr.item_embeddings(items).unsqueeze(0), \n",
    "                         action_emb.T.unsqueeze(0)).squeeze(0)\n",
    "        if return_scores:\n",
    "            return scores, torch.gather(items, 0, scores.argmax(0))\n",
    "        else:\n",
    "            return torch.gather(items, 0, scores.argmax(0))"
   ]
  },
  {
   "cell_type": "code",
   "execution_count": 66,
   "metadata": {
    "code_folding": []
   },
   "outputs": [],
   "source": [
    "class Critic_DRR(nn.Module):\n",
    "    def __init__(self, state_repr_dim, action_emb_dim, hidden_dim):\n",
    "        super().__init__()\n",
    "\n",
    "        self.layers = nn.Sequential(\n",
    "            nn.Linear(state_repr_dim + action_emb_dim, hidden_dim), \n",
    "            nn.ReLU(), \n",
    "            nn.Linear(hidden_dim, 1)\n",
    "        )\n",
    "\n",
    "        self.initialize()\n",
    "        \n",
    "    def initialize(self):\n",
    "        for layer in self.layers:\n",
    "            if isinstance(layer, nn.Linear):\n",
    "                nn.init.kaiming_uniform_(layer.weight)\n",
    "        \n",
    "    def forward(self, state, action):\n",
    "        x = torch.cat([state, action], 1)\n",
    "        x = self.layers(x)\n",
    "        return x"
   ]
  },
  {
   "cell_type": "markdown",
   "metadata": {},
   "source": [
    "### State representation\n",
    "\n",
    "<img src=\"img/state_representation.png\" width=\"350\" height=\"250\">"
   ]
  },
  {
   "cell_type": "code",
   "execution_count": 67,
   "metadata": {
    "code_folding": []
   },
   "outputs": [],
   "source": [
    "class State_Repr_Module(nn.Module):\n",
    "    def __init__(self, user_num, item_num, embedding_dim, hidden_dim):\n",
    "        super().__init__()\n",
    "        self.user_embeddings = nn.Embedding(user_num, embedding_dim)\n",
    "        # item需要padding补齐\n",
    "        self.item_embeddings = nn.Embedding(item_num+1, embedding_dim, padding_idx=int(item_num))\n",
    "        self.drr_ave = torch.nn.Conv1d(in_channels=params['N'], out_channels=1, kernel_size=1)\n",
    "        self.drr_p1 = torch.nn.Conv1d(in_channels=1, out_channels=1, kernel_size=1)\n",
    "        self.drr_p2 = torch.nn.Conv1d(in_channels=1, out_channels=1, kernel_size=1)\n",
    "        self.drr_p3 = torch.nn.Conv1d(in_channels=1, out_channels=1, kernel_size=1)\n",
    "        self.drr_p4 = torch.nn.Conv1d(in_channels=1, out_channels=1, kernel_size=1)\n",
    "        self.drr_p5 = torch.nn.Conv1d(in_channels=1, out_channels=1, kernel_size=1)\n",
    "        # self.drr_u1 = torch.nn.Conv1d(in_channels=1, out_channels=1, kernel_size=1)\n",
    "        # self.drr_u2 = torch.nn.Conv1d(in_channels=1, out_channels=1, kernel_size=1)\n",
    "        # self.drr_u3 = torch.nn.Conv1d(in_channels=1, out_channels=1, kernel_size=1)\n",
    "        # self.drr_u4 = torch.nn.Conv1d(in_channels=1, out_channels=1, kernel_size=1)\n",
    "        # self.drr_u5 = torch.nn.Conv1d(in_channels=1, out_channels=1, kernel_size=1)\n",
    "        self.initialize()\n",
    "\n",
    "    def initialize(self):\n",
    "        nn.init.normal_(self.user_embeddings.weight, std=0.01)\n",
    "        nn.init.normal_(self.item_embeddings.weight, std=0.01)\n",
    "        self.item_embeddings.weight.data[-1].zero_()\n",
    "        nn.init.kaiming_uniform_(self.drr_p1.weight)\n",
    "        self.drr_p1.bias.data.zero_()\n",
    "        nn.init.kaiming_uniform_(self.drr_p2.weight)\n",
    "        self.drr_p2.bias.data.zero_()\n",
    "        nn.init.kaiming_uniform_(self.drr_p3.weight)\n",
    "        self.drr_p3.bias.data.zero_()\n",
    "        nn.init.kaiming_uniform_(self.drr_p4.weight)\n",
    "        self.drr_p4.bias.data.zero_()\n",
    "        nn.init.kaiming_uniform_(self.drr_p5.weight)\n",
    "        self.drr_p5.bias.data.zero_()\n",
    "        # nn.init.uniform_(self.drr_ave.weight)\n",
    "        # self.drr_ave.bias.data.zero_()\n",
    "\n",
    "    def forward(self, user, memory):\n",
    "        user_embedding = self.user_embeddings(user.long())\n",
    "        item_embeddings = self.item_embeddings(memory.long())\n",
    "        # drr_p\n",
    "        drr_p1 = self.drr_p1(item_embeddings[:,0,:].unsqueeze(1)).squeeze(1)\n",
    "        drr_p2 = self.drr_p2(item_embeddings[:,1,:].unsqueeze(1)).squeeze(1)\n",
    "        drr_p3 = self.drr_p3(item_embeddings[:,2,:].unsqueeze(1)).squeeze(1)\n",
    "        drr_p4 = self.drr_p4(item_embeddings[:,3,:].unsqueeze(1)).squeeze(1)\n",
    "        drr_p5 = self.drr_p5(item_embeddings[:,4,:].unsqueeze(1)).squeeze(1)\n",
    "        drr_p = [drr_p1, drr_p2, drr_p3, drr_p4, drr_p5]\n",
    "        temp = torch.cat(tuple(drr_p[i] * drr_p[j] for i in range(5) for j in range(i,5) if i !=j), 1)\n",
    "        return torch.cat((item_embeddings.reshape(item_embeddings.shape[0],-1), temp), 1)\n",
    "\n",
    "        # drr_u\n",
    "        # drr_u1 = self.drr_u1(item_embeddings[:,0,:].unsqueeze(1)).squeeze(1)\n",
    "        # drr_u2 = self.drr_u2(item_embeddings[:,1,:].unsqueeze(1)).squeeze(1)\n",
    "        # drr_u3 = self.drr_u3(item_embeddings[:,2,:].unsqueeze(1)).squeeze(1)\n",
    "        # drr_u4 = self.drr_u4(item_embeddings[:,3,:].unsqueeze(1)).squeeze(1)\n",
    "        # drr_u5 = self.drr_u5(item_embeddings[:,4,:].unsqueeze(1)).squeeze(1)\n",
    "        # drr_u = [drr_u1, drr_u2, drr_u3, drr_u4, drr_u5]\n",
    "        # temp2 = torch.cat(tuple(drr_u[i] * drr_u[j] for i in range(5) for j in range(i,5) if i !=j), 1)\n",
    "        # temp1 = torch.cat(tuple(user_embedding * i for i in drr_u), 1)\n",
    "        # return torch.cat((temp1, temp2), 1)\n",
    "\n",
    "        # drr_ave\n",
    "        # drr_ave = self.drr_ave(item_embeddings).squeeze(1)\n",
    "        # return torch.cat((user_embedding, user_embedding * drr_ave, drr_ave), 1)"
   ]
  },
  {
   "cell_type": "markdown",
   "metadata": {},
   "source": [
    "For evaluation we take 1 positive and 99 sampled negatives items per batch, select 10 items with best scores and calculate hit_rate@10 and nDCG@10.\n",
    "During training we choose user 6039 and track `hit` and `dcg` only for him (for evaluation speed). Final scores was computed on the whole test data."
   ]
  },
  {
   "cell_type": "code",
   "execution_count": 68,
   "outputs": [],
   "source": [
    "# load pre-trained memory\n",
    "with open('logs/memory.pickle', 'rb') as f:\n",
    "    test_memory = pickle.load(f)"
   ],
   "metadata": {
    "collapsed": false
   }
  },
  {
   "cell_type": "code",
   "execution_count": 69,
   "outputs": [],
   "source": [
    "def dcg_at_k(r, k):\n",
    "    r = np.asfarray(r)[:k]\n",
    "    if r.size:\n",
    "            return np.sum(r / np.log2(np.arange(2, r.size + 2)))\n",
    "    return 0\n",
    "\n",
    "def ndcg_at_k(r, k):\n",
    "    dcg_max = dcg_at_k(sorted(r, reverse=True), k)\n",
    "    if not dcg_max:\n",
    "        return 0\n",
    "    return dcg_at_k(r, k) / dcg_max"
   ],
   "metadata": {
    "collapsed": false
   }
  },
  {
   "cell_type": "code",
   "execution_count": 70,
   "outputs": [],
   "source": [
    "def count_greater_than_x(list, x):\n",
    "    count = 0\n",
    "    for element in list:\n",
    "        if element > x:\n",
    "            count += 1\n",
    "    return count"
   ],
   "metadata": {
    "collapsed": false
   }
  },
  {
   "cell_type": "code",
   "execution_count": 77,
   "metadata": {},
   "outputs": [],
   "source": [
    "def run_evaluation(matrix, net, state_representation, training_env_memory=test_memory):\n",
    "    test_env = Env(matrix)\n",
    "    test_env.memory = training_env_memory.copy()\n",
    "    ndcg_at_5_list = []\n",
    "    precision_at_5_list = []\n",
    "    for user in range(user_num):\n",
    "        user = 310\n",
    "        user, memory = test_env.reset(user)\n",
    "        test_env.step(torch.tensor([99]))\n",
    "        test_env.step(torch.tensor([402]))\n",
    "        test_env.step(torch.tensor([143]))\n",
    "        test_env.step(torch.tensor([186]))\n",
    "        if test_env.num_rele < 5:\n",
    "            continue\n",
    "        else:\n",
    "            rating_list = []\n",
    "            for t in range(5):\n",
    "                action_emb = net(state_repr(user, memory))\n",
    "                scores, action = net.get_action(\n",
    "                    user,\n",
    "                    torch.tensor(test_env.memory[to_np(user).astype(int), :]),\n",
    "                    state_representation,\n",
    "                    action_emb,\n",
    "                    torch.tensor([item for item in test_env.related_items\n",
    "                    if item not in test_env.viewed_items]).long(),\n",
    "                    return_scores=True\n",
    "                )\n",
    "                user, memory, reward, rating, done = test_env.step(action)\n",
    "                print(\"action:\",action)\n",
    "                print(\"rating:\",rating)\n",
    "                rating_list.append(rating)\n",
    "            ndcg_at_5 = ndcg_at_k(rating_list,5)\n",
    "            ndcg_at_5_list.append(ndcg_at_5)\n",
    "            precision_at_5_list.append(count_greater_than_x(rating_list,3)/5)\n",
    "            break\n",
    "    return np.mean(precision_at_5_list), np.mean(ndcg_at_5_list)"
   ]
  },
  {
   "cell_type": "markdown",
   "metadata": {},
   "source": [
    "## 3. Training"
   ]
  },
  {
   "cell_type": "code",
   "execution_count": 12,
   "outputs": [
    {
     "ename": "NameError",
     "evalue": "name 'train_env' is not defined",
     "output_type": "error",
     "traceback": [
      "\u001B[0;31m---------------------------------------------------------------------------\u001B[0m",
      "\u001B[0;31mNameError\u001B[0m                                 Traceback (most recent call last)",
      "Cell \u001B[0;32mIn[12], line 1\u001B[0m\n\u001B[0;32m----> 1\u001B[0m user, memory \u001B[38;5;241m=\u001B[39m \u001B[43mtrain_env\u001B[49m\u001B[38;5;241m.\u001B[39mreset(\u001B[38;5;241m669\u001B[39m)\n\u001B[1;32m      2\u001B[0m state \u001B[38;5;241m=\u001B[39m state_repr(user, memory)\n\u001B[1;32m      3\u001B[0m get_action(state, value_net)\n",
      "\u001B[0;31mNameError\u001B[0m: name 'train_env' is not defined"
     ]
    }
   ],
   "source": [
    "user, memory = train_env.reset(669)\n",
    "state = state_repr(user, memory)\n",
    "get_action(state, value_net)"
   ],
   "metadata": {
    "collapsed": false
   }
  },
  {
   "cell_type": "code",
   "execution_count": 12,
   "outputs": [],
   "source": [
    "def get_action(state, net):\n",
    "    Q_list = []\n",
    "    with torch.no_grad():\n",
    "        candidate_items = torch.tensor(\n",
    "                [item for item in train_env.available_items\n",
    "                if item not in train_env.viewed_items]\n",
    "            ).long()\n",
    "        action_embs = state_repr.item_embeddings(candidate_items)\n",
    "        for action_emb in action_embs:\n",
    "            Q_list.append(net(state,action_emb.unsqueeze(0))[0][0])\n",
    "    max_index = Q_list.index(max(Q_list))\n",
    "    index = candidate_items[max_index]\n",
    "    return index,state_repr.item_embeddings(index).detach().unsqueeze(0)"
   ],
   "metadata": {
    "collapsed": false
   }
  },
  {
   "cell_type": "code",
   "execution_count": 78,
   "metadata": {
    "code_folding": [],
    "scrolled": true
   },
   "outputs": [],
   "source": [
    "torch.manual_seed(1)\n",
    "\n",
    "state_repr = State_Repr_Module(user_num, item_num, params['embedding_dim'], params['hidden_dim'])\n",
    "policy_net = Actor_DRR(params['embedding_dim'], params['hidden_dim'])\n",
    "value_net  = Critic_DRR(params['embedding_dim'] * 15, params['embedding_dim'], params['hidden_dim'])\n",
    "replay_buffer = Prioritized_Buffer(params['buffer_size'])\n",
    "\n",
    "target_value_net  = Critic_DRR(params['embedding_dim'] * 15, params['embedding_dim'], params['hidden_dim'])\n",
    "target_policy_net = Actor_DRR(params['embedding_dim'], params['hidden_dim'])\n",
    "\n",
    "for target_param, param in zip(target_value_net.parameters(), value_net.parameters()):\n",
    "    target_param.data.copy_(param.data)\n",
    "\n",
    "for target_param, param in zip(target_policy_net.parameters(), policy_net.parameters()):\n",
    "    target_param.data.copy_(param.data)\n",
    "\n",
    "value_criterion  = nn.MSELoss()\n",
    "value_optimizer  = Ranger(value_net.parameters(),  lr=params['value_lr'], \n",
    "                          weight_decay=params['value_decay'])\n",
    "policy_optimizer = Ranger(policy_net.parameters(), lr=params['policy_lr'], \n",
    "                          weight_decay=params['policy_decay'])\n",
    "state_repr_optimizer = Ranger(state_repr.parameters(), lr=params['state_repr_lr'], \n",
    "                              weight_decay=params['state_repr_decay'])\n",
    "\n",
    "critic_scheduler = lr_scheduler.ExponentialLR(value_optimizer, gamma=0.8)\n",
    "actor_scheduler = lr_scheduler.ExponentialLR(policy_optimizer, gamma=0.8)\n",
    "state_repr_scheduler = lr_scheduler.ExponentialLR(state_repr_optimizer, gamma=0.8)\n",
    "\n",
    "# writer = SummaryWriter(log_dir=params['log_dir'])\n",
    "\n",
    "loss = {\n",
    "    'test': {'precision': [], 'ndcg': [], 'step': []},\n",
    "    'train': {'value': [], 'policy': [], 'step': []}\n",
    "    }\n",
    "plotter = Plotter(loss, [['value', 'policy'],['precision','ndcg']])"
   ]
  },
  {
   "cell_type": "code",
   "execution_count": 79,
   "metadata": {
    "code_folding": []
   },
   "outputs": [],
   "source": [
    "def ddpg_update(training_env,\n",
    "                step=0,\n",
    "                batch_size=params['batch_size'], \n",
    "                gamma=params['gamma'],\n",
    "                min_value=params['min_value'],\n",
    "                max_value=params['max_value'],\n",
    "                soft_tau=params['soft_tau'],\n",
    "               ):\n",
    "    beta = get_beta(step)\n",
    "    user, memory, action, reward, next_user, next_memory, done = replay_buffer.sample(batch_size, beta)\n",
    "    user        = torch.FloatTensor(user)\n",
    "    memory      = torch.FloatTensor(memory)\n",
    "    action      = torch.FloatTensor(action)\n",
    "    reward      = torch.FloatTensor(reward)\n",
    "    next_user   = torch.FloatTensor(next_user)\n",
    "    next_memory = torch.FloatTensor(next_memory)\n",
    "    done = torch.FloatTensor(done)\n",
    "    \n",
    "    state       = state_repr(user, memory)\n",
    "    policy_loss = value_net(state, policy_net(state))\n",
    "    policy_loss = -policy_loss.mean()\n",
    "    \n",
    "    next_state     = state_repr(next_user, next_memory)\n",
    "    next_action    = target_policy_net(next_state)\n",
    "    target_value   = target_value_net(next_state, next_action.detach())\n",
    "    expected_value = reward + (1.0 - done) * gamma * target_value\n",
    "    expected_value = torch.clamp(expected_value, min_value, max_value)\n",
    "\n",
    "    value = value_net(state, action)\n",
    "    value_loss = value_criterion(value, expected_value.detach())\n",
    "    \n",
    "    state_repr_optimizer.zero_grad()\n",
    "    policy_optimizer.zero_grad()\n",
    "    policy_loss.backward(retain_graph=True)\n",
    "    policy_optimizer.step()\n",
    "\n",
    "    value_optimizer.zero_grad()\n",
    "    value_loss.backward(retain_graph=True)\n",
    "    value_optimizer.step()\n",
    "    state_repr_optimizer.step()\n",
    "\n",
    "    for target_param, param in zip(target_value_net.parameters(), value_net.parameters()):\n",
    "                target_param.data.copy_(\n",
    "                    target_param.data * (1.0 - soft_tau) + param.data * soft_tau\n",
    "                )\n",
    "\n",
    "    for target_param, param in zip(target_policy_net.parameters(), policy_net.parameters()):\n",
    "            target_param.data.copy_(\n",
    "                target_param.data * (1.0 - soft_tau) + param.data * soft_tau\n",
    "            )\n",
    "\n",
    "    losses = {\"value\": value_loss.item(), \"policy\": policy_loss.item(), \"step\": step}\n",
    "    plotter.log_losses(losses)\n",
    "\n",
    "    # writer.add_histogram('value', value, step)\n",
    "    # writer.add_histogram('target_value', target_value, step)\n",
    "    # writer.add_histogram('expected_value', expected_value, step)\n",
    "    # writer.add_histogram('value_loss', value_loss, step)\n",
    "    # writer.add_histogram('policy_loss', policy_loss, step)"
   ]
  },
  {
   "cell_type": "code",
   "execution_count": 80,
   "outputs": [],
   "source": [
    "np.random.seed(15)\n",
    "train_env = Env(train_matrix)\n",
    "precisions, ndcgs = [], []\n",
    "step, best_step = 0, 0\n",
    "users = np.random.permutation(appropriate_users)\n",
    "ou_noise = OUNoise(params['embedding_dim'], decay_period=10)"
   ],
   "metadata": {
    "collapsed": false
   }
  },
  {
   "cell_type": "code",
   "execution_count": 15,
   "metadata": {
    "code_folding": [],
    "scrolled": true
   },
   "outputs": [
    {
     "name": "stderr",
     "output_type": "stream",
     "text": [
      "  0%|          | 0/534 [00:00<?, ?it/s][W NNPACK.cpp:53] Could not initialize NNPACK! Reason: Unsupported hardware.\n",
      "/var/folders/0w/5fjhh0vx7rbg6mmk_ld1nfvr0000gn/T/ipykernel_95392/1470500898.py:44: DeprecationWarning: setting an array element with a sequence. This was supported in some cases where the elements are arrays with a single element. For example `np.array([1, np.array([2])], dtype=int)`. In the future this will raise the same ValueError as `np.array([1, [2]], dtype=int)`.\n",
      "  self.memory[self.user_id] = list(self.memory[self.user_id][1:]) + [action]\n",
      "/var/folders/0w/5fjhh0vx7rbg6mmk_ld1nfvr0000gn/T/ipykernel_95392/2726701922.py:13: UserWarning: Creating a tensor from a list of numpy.ndarrays is extremely slow. Please consider converting the list to a single numpy.ndarray with numpy.array() before converting to a tensor. (Triggered internally at /Users/runner/work/_temp/anaconda/conda-bld/pytorch_1670525474122/work/torch/csrc/utils/tensor_new.cpp:233.)\n",
      "  action      = torch.FloatTensor(action)\n",
      "/Users/xuxiaoan/opt/anaconda3/envs/recnn/lib/python3.8/site-packages/pytorch_ranger/ranger.py:172: UserWarning: This overload of addcmul_ is deprecated:\n",
      "\taddcmul_(Number value, Tensor tensor1, Tensor tensor2)\n",
      "Consider using one of the following signatures instead:\n",
      "\taddcmul_(Tensor tensor1, Tensor tensor2, *, Number value) (Triggered internally at /Users/runner/work/_temp/anaconda/conda-bld/pytorch_1670525474122/work/torch/csrc/utils/python_arg_parser.cpp:1420.)\n",
      "  exp_avg_sq.mul_(beta2).addcmul_(1 - beta2, grad, grad)\n",
      "  0%|          | 2/534 [00:02<10:29,  1.18s/it]\n"
     ]
    },
    {
     "ename": "KeyboardInterrupt",
     "evalue": "",
     "output_type": "error",
     "traceback": [
      "\u001B[0;31m---------------------------------------------------------------------------\u001B[0m",
      "\u001B[0;31mKeyboardInterrupt\u001B[0m                         Traceback (most recent call last)",
      "Cell \u001B[0;32mIn[15], line 29\u001B[0m\n\u001B[1;32m     22\u001B[0m user, memory, reward, rating, done \u001B[38;5;241m=\u001B[39m train_env\u001B[38;5;241m.\u001B[39mstep(\n\u001B[1;32m     23\u001B[0m     action,\n\u001B[1;32m     24\u001B[0m     action_emb,\n\u001B[1;32m     25\u001B[0m     buffer\u001B[38;5;241m=\u001B[39mreplay_buffer\n\u001B[1;32m     26\u001B[0m )\n\u001B[1;32m     28\u001B[0m \u001B[38;5;28;01mif\u001B[39;00m \u001B[38;5;28mlen\u001B[39m(replay_buffer) \u001B[38;5;241m>\u001B[39m params[\u001B[38;5;124m'\u001B[39m\u001B[38;5;124mbatch_size\u001B[39m\u001B[38;5;124m'\u001B[39m]:\n\u001B[0;32m---> 29\u001B[0m     \u001B[43mddpg_update\u001B[49m\u001B[43m(\u001B[49m\u001B[43mtrain_env\u001B[49m\u001B[43m,\u001B[49m\u001B[43m \u001B[49m\u001B[43mstep\u001B[49m\u001B[38;5;241;43m=\u001B[39;49m\u001B[43mstep\u001B[49m\u001B[43m)\u001B[49m\n\u001B[1;32m     31\u001B[0m \u001B[38;5;66;03m# 每1000个step保存最优参数（使得ndcg@10最大）（使用同一个test_memory）\u001B[39;00m\n\u001B[1;32m     32\u001B[0m \u001B[38;5;28;01mif\u001B[39;00m step \u001B[38;5;241m%\u001B[39m \u001B[38;5;241m1000\u001B[39m \u001B[38;5;241m==\u001B[39m \u001B[38;5;241m0\u001B[39m \u001B[38;5;129;01mand\u001B[39;00m step \u001B[38;5;241m>\u001B[39m \u001B[38;5;241m0\u001B[39m:\n",
      "Cell \u001B[0;32mIn[13], line 38\u001B[0m, in \u001B[0;36mddpg_update\u001B[0;34m(training_env, step, batch_size, gamma, min_value, max_value, soft_tau)\u001B[0m\n\u001B[1;32m     35\u001B[0m policy_optimizer\u001B[38;5;241m.\u001B[39mstep()\n\u001B[1;32m     37\u001B[0m value_optimizer\u001B[38;5;241m.\u001B[39mzero_grad()\n\u001B[0;32m---> 38\u001B[0m \u001B[43mvalue_loss\u001B[49m\u001B[38;5;241;43m.\u001B[39;49m\u001B[43mbackward\u001B[49m\u001B[43m(\u001B[49m\u001B[43mretain_graph\u001B[49m\u001B[38;5;241;43m=\u001B[39;49m\u001B[38;5;28;43;01mTrue\u001B[39;49;00m\u001B[43m)\u001B[49m\n\u001B[1;32m     39\u001B[0m value_optimizer\u001B[38;5;241m.\u001B[39mstep()\n\u001B[1;32m     40\u001B[0m state_repr_optimizer\u001B[38;5;241m.\u001B[39mstep()\n",
      "File \u001B[0;32m~/opt/anaconda3/envs/recnn/lib/python3.8/site-packages/torch/_tensor.py:488\u001B[0m, in \u001B[0;36mTensor.backward\u001B[0;34m(self, gradient, retain_graph, create_graph, inputs)\u001B[0m\n\u001B[1;32m    478\u001B[0m \u001B[38;5;28;01mif\u001B[39;00m has_torch_function_unary(\u001B[38;5;28mself\u001B[39m):\n\u001B[1;32m    479\u001B[0m     \u001B[38;5;28;01mreturn\u001B[39;00m handle_torch_function(\n\u001B[1;32m    480\u001B[0m         Tensor\u001B[38;5;241m.\u001B[39mbackward,\n\u001B[1;32m    481\u001B[0m         (\u001B[38;5;28mself\u001B[39m,),\n\u001B[0;32m   (...)\u001B[0m\n\u001B[1;32m    486\u001B[0m         inputs\u001B[38;5;241m=\u001B[39minputs,\n\u001B[1;32m    487\u001B[0m     )\n\u001B[0;32m--> 488\u001B[0m \u001B[43mtorch\u001B[49m\u001B[38;5;241;43m.\u001B[39;49m\u001B[43mautograd\u001B[49m\u001B[38;5;241;43m.\u001B[39;49m\u001B[43mbackward\u001B[49m\u001B[43m(\u001B[49m\n\u001B[1;32m    489\u001B[0m \u001B[43m    \u001B[49m\u001B[38;5;28;43mself\u001B[39;49m\u001B[43m,\u001B[49m\u001B[43m \u001B[49m\u001B[43mgradient\u001B[49m\u001B[43m,\u001B[49m\u001B[43m \u001B[49m\u001B[43mretain_graph\u001B[49m\u001B[43m,\u001B[49m\u001B[43m \u001B[49m\u001B[43mcreate_graph\u001B[49m\u001B[43m,\u001B[49m\u001B[43m \u001B[49m\u001B[43minputs\u001B[49m\u001B[38;5;241;43m=\u001B[39;49m\u001B[43minputs\u001B[49m\n\u001B[1;32m    490\u001B[0m \u001B[43m\u001B[49m\u001B[43m)\u001B[49m\n",
      "File \u001B[0;32m~/opt/anaconda3/envs/recnn/lib/python3.8/site-packages/torch/autograd/__init__.py:197\u001B[0m, in \u001B[0;36mbackward\u001B[0;34m(tensors, grad_tensors, retain_graph, create_graph, grad_variables, inputs)\u001B[0m\n\u001B[1;32m    192\u001B[0m     retain_graph \u001B[38;5;241m=\u001B[39m create_graph\n\u001B[1;32m    194\u001B[0m \u001B[38;5;66;03m# The reason we repeat same the comment below is that\u001B[39;00m\n\u001B[1;32m    195\u001B[0m \u001B[38;5;66;03m# some Python versions print out the first line of a multi-line function\u001B[39;00m\n\u001B[1;32m    196\u001B[0m \u001B[38;5;66;03m# calls in the traceback and some print out the last line\u001B[39;00m\n\u001B[0;32m--> 197\u001B[0m \u001B[43mVariable\u001B[49m\u001B[38;5;241;43m.\u001B[39;49m\u001B[43m_execution_engine\u001B[49m\u001B[38;5;241;43m.\u001B[39;49m\u001B[43mrun_backward\u001B[49m\u001B[43m(\u001B[49m\u001B[43m  \u001B[49m\u001B[38;5;66;43;03m# Calls into the C++ engine to run the backward pass\u001B[39;49;00m\n\u001B[1;32m    198\u001B[0m \u001B[43m    \u001B[49m\u001B[43mtensors\u001B[49m\u001B[43m,\u001B[49m\u001B[43m \u001B[49m\u001B[43mgrad_tensors_\u001B[49m\u001B[43m,\u001B[49m\u001B[43m \u001B[49m\u001B[43mretain_graph\u001B[49m\u001B[43m,\u001B[49m\u001B[43m \u001B[49m\u001B[43mcreate_graph\u001B[49m\u001B[43m,\u001B[49m\u001B[43m \u001B[49m\u001B[43minputs\u001B[49m\u001B[43m,\u001B[49m\n\u001B[1;32m    199\u001B[0m \u001B[43m    \u001B[49m\u001B[43mallow_unreachable\u001B[49m\u001B[38;5;241;43m=\u001B[39;49m\u001B[38;5;28;43;01mTrue\u001B[39;49;00m\u001B[43m,\u001B[49m\u001B[43m \u001B[49m\u001B[43maccumulate_grad\u001B[49m\u001B[38;5;241;43m=\u001B[39;49m\u001B[38;5;28;43;01mTrue\u001B[39;49;00m\u001B[43m)\u001B[49m\n",
      "\u001B[0;31mKeyboardInterrupt\u001B[0m: "
     ]
    }
   ],
   "source": [
    "for epoch in range(params[\"max_epoch\"]):\n",
    "    for u in tqdm.tqdm(users):\n",
    "        user, memory = train_env.reset(u)\n",
    "        if params['ou_noise']:\n",
    "            ou_noise.reset()\n",
    "        for t in range(train_env.num_good):\n",
    "            action_emb = policy_net(state_repr(user, memory))\n",
    "            if params['ou_noise']:\n",
    "                action_emb = ou_noise.get_action(action_emb.detach().cpu().numpy()[0], t)\n",
    "            action = policy_net.get_action(\n",
    "                user,\n",
    "                torch.tensor(train_env.memory[to_np(user).astype(int), :]),\n",
    "                state_repr,\n",
    "                action_emb,\n",
    "                torch.tensor(\n",
    "                    [item for item in train_env.available_items\n",
    "                    if item not in train_env.viewed_items]\n",
    "                ).long()\n",
    "            )\n",
    "\n",
    "            # 返回S'R，并将transition传入replay buffer\n",
    "            user, memory, reward, rating, done = train_env.step(\n",
    "                action,\n",
    "                action_emb,\n",
    "                buffer=replay_buffer\n",
    "            )\n",
    "\n",
    "            if len(replay_buffer) > params['batch_size']:\n",
    "                ddpg_update(train_env, step=step)\n",
    "\n",
    "            # 每1000个step保存最优参数（使得ndcg@10最大）（使用同一个test_memory）\n",
    "            if step % 1000 == 0 and step > 0:\n",
    "                precision, ndcg = run_evaluation(valid_matrix, policy_net, state_repr, test_memory)\n",
    "                losses = {\"precision\": precision.item(), \"ndcg\": ndcg.item(), \"step\": step}\n",
    "                plotter.log_losses(losses, test=True)\n",
    "                clear_output()\n",
    "                plotter.plot_loss()\n",
    "                # writer.add_scalar('precision', precision, step)\n",
    "                # writer.add_scalar('ndcg', ndcg, step)\n",
    "                precisions.append(precision)\n",
    "                ndcgs.append(ndcg)\n",
    "                if np.mean(np.array([ndcg]) - np.array(ndcgs[best_step])) > 0:\n",
    "                    # best_step是当前step在ndcgs中的index，ndcgs的元素为从1000开始\n",
    "                    best_step = step // 1000 - 1\n",
    "                    torch.save(policy_net.state_dict(), params['log_dir'] + 'best_policy_net.pth')\n",
    "                    torch.save(value_net.state_dict(), params['log_dir'] + 'best_value_net.pth')\n",
    "                    torch.save(state_repr.state_dict(), params['log_dir'] + 'best_state_repr.pth')\n",
    "            step += 1\n",
    "\n",
    "    critic_scheduler.step()\n",
    "    actor_scheduler.step()\n",
    "    state_repr_scheduler.step()"
   ]
  },
  {
   "cell_type": "code",
   "execution_count": 25,
   "metadata": {},
   "outputs": [],
   "source": [
    "torch.save(policy_net.state_dict(), params['log_dir'] + 'policy_net_final.pth')\n",
    "torch.save(value_net.state_dict(), params['log_dir'] + 'value_net_final.pth')\n",
    "torch.save(state_repr.state_dict(), params['log_dir'] + 'state_repr_final.pth')"
   ]
  },
  {
   "cell_type": "code",
   "execution_count": 17,
   "metadata": {},
   "outputs": [],
   "source": [
    "# we need memory for validation, so it's better to save it and not wait next time \n",
    "with open('logs/memory.pickle', 'wb') as f:\n",
    "    pickle.dump(train_env.memory, f)\n",
    "    \n",
    "with open('logs/memory.pickle', 'rb') as f:\n",
    "    memory = pickle.load(f)"
   ]
  },
  {
   "cell_type": "code",
   "execution_count": 81,
   "outputs": [],
   "source": [
    "# load pre-trained memory\n",
    "with open('logs/memory2.pickle', 'rb') as f:\n",
    "    memory = pickle.load(f)"
   ],
   "metadata": {
    "collapsed": false
   }
  },
  {
   "cell_type": "markdown",
   "metadata": {},
   "source": [
    "## 4. Results"
   ]
  },
  {
   "cell_type": "markdown",
   "metadata": {},
   "source": [
    "Weights and logs are stored in [this folder](https://drive.google.com/drive/folders/1hsGjh8oHN4uyCmp_wtAyVPTR76ylVVgH?usp=sharing)"
   ]
  },
  {
   "cell_type": "code",
   "execution_count": 84,
   "outputs": [
    {
     "data": {
      "text/plain": "1196"
     },
     "execution_count": 84,
     "metadata": {},
     "output_type": "execute_result"
    }
   ],
   "source": [
    "reverse_mapping[179]"
   ],
   "metadata": {
    "collapsed": false
   }
  },
  {
   "cell_type": "code",
   "execution_count": 81,
   "metadata": {},
   "outputs": [
    {
     "name": "stdout",
     "output_type": "stream",
     "text": [
      "action: tensor([417])\n",
      "rating: 3.0\n",
      "action: tensor([174])\n",
      "rating: 4.0\n",
      "action: tensor([179])\n",
      "rating: 3.0\n",
      "action: tensor([432])\n",
      "rating: 4.5\n",
      "action: tensor([202])\n",
      "rating: 4.5\n",
      "hit rate:  0.6 dcg:  0.9076329808594479\n"
     ]
    },
    {
     "name": "stderr",
     "output_type": "stream",
     "text": [
      "/var/folders/0w/5fjhh0vx7rbg6mmk_ld1nfvr0000gn/T/ipykernel_25490/1470500898.py:44: DeprecationWarning: setting an array element with a sequence. This was supported in some cases where the elements are arrays with a single element. For example `np.array([1, np.array([2])], dtype=int)`. In the future this will raise the same ValueError as `np.array([1, [2]], dtype=int)`.\n",
      "  self.memory[self.user_id] = list(self.memory[self.user_id][1:]) + [action]\n"
     ]
    }
   ],
   "source": [
    "no_ou_state_repr = State_Repr_Module(user_num, item_num, params['embedding_dim'], params['hidden_dim'])\n",
    "no_ou_policy_net = Actor_DRR(params['embedding_dim'], params['hidden_dim'])\n",
    "no_ou_state_repr.load_state_dict(torch.load('./logs/drr_p/' + 'best_state_repr.pth'))\n",
    "no_ou_policy_net.load_state_dict(torch.load('./logs/drr_p/' + 'best_policy_net.pth'))\n",
    "hit, dcg = run_evaluation(test_matrix, no_ou_policy_net, no_ou_state_repr, test_memory)\n",
    "print('hit rate: ', hit, 'dcg: ', dcg)\n",
    "# valid_matrix: 0.722877358490566, 0.9433696600911056\n",
    "# test_matrix: 0.7161290322580647, 0.9466240573232205"
   ]
  },
  {
   "cell_type": "code",
   "execution_count": 18,
   "outputs": [],
   "source": [
    "pickle.dump(loss,open(\"loss.pickle\",\"wb\"))"
   ],
   "metadata": {
    "collapsed": false
   }
  },
  {
   "cell_type": "code",
   "execution_count": 19,
   "outputs": [],
   "source": [
    "pickle.dump(loss,open(\"loss.pickle\",\"wb\"))"
   ],
   "metadata": {
    "collapsed": false
   }
  },
  {
   "cell_type": "code",
   "execution_count": 19,
   "metadata": {},
   "outputs": [
    {
     "name": "stderr",
     "output_type": "stream",
     "text": [
      "/var/folders/0w/5fjhh0vx7rbg6mmk_ld1nfvr0000gn/T/ipykernel_40558/3694430785.py:45: DeprecationWarning: setting an array element with a sequence. This was supported in some cases where the elements are arrays with a single element. For example `np.array([1, np.array([2])], dtype=int)`. In the future this will raise the same ValueError as `np.array([1, [2]], dtype=int)`.\n",
      "  self.memory[self.user_id] = list(self.memory[self.user_id][1:]) + [action]\n"
     ]
    },
    {
     "name": "stdout",
     "output_type": "stream",
     "text": [
      "hit rate:  0.674074074074074 dcg:  0.9334732605319773\n"
     ]
    }
   ],
   "source": [
    "ou_state_repr = State_Repr_Module(user_num, item_num, params['embedding_dim'], params['hidden_dim'])\n",
    "ou_policy_net = Actor_DRR(params['embedding_dim'], params['hidden_dim'])\n",
    "ou_state_repr.load_state_dict(torch.load('logs/ou_noise_04/' + 'best_state_repr.pth'))\n",
    "ou_policy_net.load_state_dict(torch.load('logs/ou_noise_04/' + 'best_policy_net.pth'))\n",
    "\n",
    "hit, dcg = run_evaluation(ou_policy_net, ou_state_repr, test_memory)\n",
    "print('hit rate: ', hit, 'dcg: ', dcg)"
   ]
  },
  {
   "cell_type": "markdown",
   "metadata": {},
   "source": [
    "### Example of trained agents behaviour"
   ]
  },
  {
   "cell_type": "markdown",
   "metadata": {},
   "source": [
    "Let's choose random user"
   ]
  },
  {
   "cell_type": "code",
   "execution_count": 19,
   "metadata": {},
   "outputs": [
    {
     "name": "stdout",
     "output_type": "stream",
     "text": [
      "5983\n"
     ]
    }
   ],
   "source": [
    "random_user = np.random.randint(user_num)\n",
    "print(random_user)"
   ]
  },
  {
   "cell_type": "code",
   "execution_count": 23,
   "metadata": {
    "scrolled": true
   },
   "outputs": [
    {
     "data": {
      "text/plain": "        id                                               name  \\\n44      45                                  To Die For (1995)   \n64      65                                    Bio-Dome (1996)   \n131    133                                   Nueba Yol (1995)   \n639    644                               Happy Weekend (1996)   \n706    715  Horseman on the Roof, The (Hussard sur le toit...   \n979    991                             Michael Collins (1996)   \n989   1002                              Ed's Next Move (1996)   \n1222  1242                                       Glory (1989)   \n\n                 genre  \n44        Comedy|Drama  \n64              Comedy  \n131       Comedy|Drama  \n639             Comedy  \n706              Drama  \n979          Drama|War  \n989             Comedy  \n1222  Action|Drama|War  ",
      "text/html": "<div>\n<style scoped>\n    .dataframe tbody tr th:only-of-type {\n        vertical-align: middle;\n    }\n\n    .dataframe tbody tr th {\n        vertical-align: top;\n    }\n\n    .dataframe thead th {\n        text-align: right;\n    }\n</style>\n<table border=\"1\" class=\"dataframe\">\n  <thead>\n    <tr style=\"text-align: right;\">\n      <th></th>\n      <th>id</th>\n      <th>name</th>\n      <th>genre</th>\n    </tr>\n  </thead>\n  <tbody>\n    <tr>\n      <th>44</th>\n      <td>45</td>\n      <td>To Die For (1995)</td>\n      <td>Comedy|Drama</td>\n    </tr>\n    <tr>\n      <th>64</th>\n      <td>65</td>\n      <td>Bio-Dome (1996)</td>\n      <td>Comedy</td>\n    </tr>\n    <tr>\n      <th>131</th>\n      <td>133</td>\n      <td>Nueba Yol (1995)</td>\n      <td>Comedy|Drama</td>\n    </tr>\n    <tr>\n      <th>639</th>\n      <td>644</td>\n      <td>Happy Weekend (1996)</td>\n      <td>Comedy</td>\n    </tr>\n    <tr>\n      <th>706</th>\n      <td>715</td>\n      <td>Horseman on the Roof, The (Hussard sur le toit...</td>\n      <td>Drama</td>\n    </tr>\n    <tr>\n      <th>979</th>\n      <td>991</td>\n      <td>Michael Collins (1996)</td>\n      <td>Drama|War</td>\n    </tr>\n    <tr>\n      <th>989</th>\n      <td>1002</td>\n      <td>Ed's Next Move (1996)</td>\n      <td>Comedy</td>\n    </tr>\n    <tr>\n      <th>1222</th>\n      <td>1242</td>\n      <td>Glory (1989)</td>\n      <td>Action|Drama|War</td>\n    </tr>\n  </tbody>\n</table>\n</div>"
     },
     "metadata": {},
     "output_type": "display_data"
    }
   ],
   "source": [
    "movies = pd.read_csv('/Users/xuxiaoan/Downloads/recsys-rl-master/data/movies.dat', sep='::', header=None, engine='python', names=['id', 'name', 'genre'], encoding=\"latin-1\")\n",
    "# in the code numeration starts with 0\n",
    "display(movies[movies['id'].isin(np.argwhere(test_matrix[random_user] > 0)[:, 1] + 1)])"
   ]
  },
  {
   "cell_type": "markdown",
   "metadata": {},
   "source": [
    "For example we can recommend \"Nixon\" and \"Love Serenade\" and see next 3 predictions."
   ]
  },
  {
   "cell_type": "code",
   "execution_count": 26,
   "metadata": {},
   "outputs": [
    {
     "name": "stdout",
     "output_type": "stream",
     "text": [
      "[tensor([132]), tensor([714]), tensor([64])]\n",
      "[tensor([132]), tensor([64]), tensor([714])]\n"
     ]
    },
    {
     "name": "stderr",
     "output_type": "stream",
     "text": [
      "/var/folders/0w/5fjhh0vx7rbg6mmk_ld1nfvr0000gn/T/ipykernel_33216/4137504441.py:33: DeprecationWarning: setting an array element with a sequence. This was supported in some cases where the elements are arrays with a single element. For example `np.array([1, np.array([2])], dtype=int)`. In the future this will raise the same ValueError as `np.array([1, [2]], dtype=int)`.\n",
      "  self.memory[self.user_id] = list(self.memory[self.user_id][1:]) + [action]\n"
     ]
    }
   ],
   "source": [
    "predictions = []\n",
    "\n",
    "for model, state_representation in zip([ou_policy_net, no_ou_policy_net], [ou_state_repr, no_ou_state_repr]):\n",
    "    example_env = Env(test_matrix)\n",
    "    user, memory = example_env.reset(random_user)\n",
    "\n",
    "    user, memory, reward, _ = example_env.step(torch.tensor([44])) # 13\n",
    "    user, memory, reward, _ = example_env.step(torch.tensor([1001])) # 1584\n",
    "    preds = []\n",
    "    for _ in range(3):\n",
    "        action_emb = model(state_representation(user, memory))\n",
    "        action = model.get_action(\n",
    "            user, \n",
    "            torch.tensor(example_env.memory[to_np(user).astype(int), :]), \n",
    "            state_representation, \n",
    "            action_emb,\n",
    "            torch.tensor(\n",
    "               [item for item in example_env.available_items\n",
    "               if item not in example_env.viewed_items]\n",
    "            ).long()\n",
    "        )\n",
    "        user, memory, reward, _ = example_env.step(action)\n",
    "        preds.append(action)\n",
    "\n",
    "    predictions.append(preds)\n",
    "\n",
    "print(predictions[0])\n",
    "print(predictions[1])"
   ]
  },
  {
   "cell_type": "markdown",
   "metadata": {},
   "source": [
    "Model trained with OU noise recommended related `Comedy` and `Documentary` after that switch recommendations to nonrelated `Crime|Film-Noir|Thriller`.\n",
    "Model trained without OU noise recommended `Comedy|Drama`, `Children's|Comedy`, `Drama` (two of them are related).\n",
    "\n",
    "Both models seems to be reasonable."
   ]
  },
  {
   "cell_type": "markdown",
   "metadata": {},
   "source": [
    "### Training process logs"
   ]
  },
  {
   "cell_type": "markdown",
   "metadata": {},
   "source": [
    "<img src=img/learning_curve.png>"
   ]
  },
  {
   "cell_type": "markdown",
   "metadata": {},
   "source": [
    "Logs are consistent with expectations. Adding noise increase metrics (std=0.4 performs the best, after 0.6 model starts to degrade)."
   ]
  }
 ],
 "metadata": {
  "accelerator": "GPU",
  "colab": {
   "collapsed_sections": [
    "s-iWfb5TixZc",
    "baIIDXdAixaH"
   ],
   "name": "pytorch.pipelines.ipynb",
   "provenance": []
  },
  "kernelspec": {
   "name": "recnn",
   "language": "python",
   "display_name": "recnn"
  },
  "language_info": {
   "codemirror_mode": {
    "name": "ipython",
    "version": 3
   },
   "file_extension": ".py",
   "mimetype": "text/x-python",
   "name": "python",
   "nbconvert_exporter": "python",
   "pygments_lexer": "ipython3",
   "version": "3.6.13"
  }
 },
 "nbformat": 4,
 "nbformat_minor": 1
}
